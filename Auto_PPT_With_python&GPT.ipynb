{
  "nbformat": 4,
  "nbformat_minor": 0,
  "metadata": {
    "colab": {
      "provenance": [],
      "authorship_tag": "ABX9TyM6KnyWnIEPPQJ9wyLNsW9V",
      "include_colab_link": true
    },
    "kernelspec": {
      "name": "python3",
      "display_name": "Python 3"
    },
    "language_info": {
      "name": "python"
    }
  },
  "cells": [
    {
      "cell_type": "markdown",
      "metadata": {
        "id": "view-in-github",
        "colab_type": "text"
      },
      "source": [
        "<a href=\"https://colab.research.google.com/github/AmmarJamshed/saved-work/blob/main/Auto_PPT_With_python%26GPT.ipynb\" target=\"_parent\"><img src=\"https://colab.research.google.com/assets/colab-badge.svg\" alt=\"Open In Colab\"/></a>"
      ]
    },
    {
      "cell_type": "markdown",
      "source": [
        "# Install Required Library"
      ],
      "metadata": {
        "id": "TOcO9ZCuCK8p"
      }
    },
    {
      "cell_type": "code",
      "source": [
        "!pip install --upgrade python-docx"
      ],
      "metadata": {
        "id": "26w87yFnCKJN"
      },
      "execution_count": null,
      "outputs": []
    },
    {
      "cell_type": "markdown",
      "source": [
        "# Generate First Doc"
      ],
      "metadata": {
        "id": "0mPJIoe6CQVv"
      }
    },
    {
      "cell_type": "code",
      "source": [
        "from docx import Document\n",
        "\n",
        "# Create a new Document\n",
        "doc = Document()\n",
        "\n",
        "# Add Title Slide\n",
        "doc.add_heading('OpenCV from Basic to Advanced', 0)\n",
        "doc.add_paragraph('Instructor: Your Name\\nDate: 2024')\n",
        "\n",
        "# Add Module 1\n",
        "doc.add_heading('Module 1: Introduction to OpenCV', level=1)\n",
        "\n",
        "# Slide 2: What is OpenCV?\n",
        "doc.add_heading('What is OpenCV?', level=2)\n",
        "doc.add_paragraph('• Definition and Overview\\n'\n",
        "                  '• History and Evolution')\n",
        "\n",
        "# Slide 3: Installing OpenCV\n",
        "doc.add_heading('Installing OpenCV', level=2)\n",
        "doc.add_paragraph('• Installation on Windows, macOS, Linux\\n'\n",
        "                  '• Setting up the development environment\\n'\n",
        "                  '```python\\n'\n",
        "                  '# Installation using pip\\n'\n",
        "                  'pip install opencv-python\\n'\n",
        "                  '\\n'\n",
        "                  '# Import OpenCV in your Python script\\n'\n",
        "                  'import cv2\\n'\n",
        "                  '```')\n",
        "\n",
        "# Slide 4: First OpenCV Program\n",
        "doc.add_heading('First OpenCV Program', level=2)\n",
        "doc.add_paragraph('• Reading, displaying, and saving images\\n'\n",
        "                  '```python\\n'\n",
        "                  '# Read an image\\n'\n",
        "                  'img = cv2.imread(\"image.jpg\")\\n'\n",
        "                  '\\n'\n",
        "                  '# Display an image\\n'\n",
        "                  'cv2.imshow(\"image\", img)\\n'\n",
        "                  'cv2.waitKey(0)\\n'\n",
        "                  'cv2.destroyAllWindows()\\n'\n",
        "                  '\\n'\n",
        "                  '# Save an image\\n'\n",
        "                  'cv2.imwrite(\"output.jpg\", img)\\n'\n",
        "                  '```')\n",
        "\n",
        "# Add Module 2\n",
        "doc.add_heading('Module 2: Basic Image Processing', level=1)\n",
        "\n",
        "# Slide 5: Image Basics\n",
        "doc.add_heading('Image Basics', level=2)\n",
        "doc.add_paragraph('• Image representation (pixels, channels)\\n'\n",
        "                  '• Color spaces (RGB, Grayscale, HSV)\\n'\n",
        "                  '```python\\n'\n",
        "                  '# Convert to different color spaces\\n'\n",
        "                  'gray = cv2.cvtColor(img, cv2.COLOR_BGR2GRAY)\\n'\n",
        "                  'hsv = cv2.cvtColor(img, cv2.COLOR_BGR2HSV)\\n'\n",
        "                  '```')\n",
        "\n",
        "# Slide 6: Image Arithmetic and Logical Operations\n",
        "doc.add_heading('Image Arithmetic and Logical Operations', level=2)\n",
        "doc.add_paragraph('• Addition, subtraction, bitwise operations\\n'\n",
        "                  '```python\\n'\n",
        "                  '# Image addition\\n'\n",
        "                  'added_image = cv2.add(img1, img2)\\n'\n",
        "                  '\\n'\n",
        "                  '# Image subtraction\\n'\n",
        "                  'subtracted_image = cv2.subtract(img1, img2)\\n'\n",
        "                  '\\n'\n",
        "                  '# Bitwise operations\\n'\n",
        "                  'bitwise_and = cv2.bitwise_and(img1, img2)\\n'\n",
        "                  'bitwise_or = cv2.bitwise_or(img1, img2)\\n'\n",
        "                  '```')\n",
        "\n",
        "# Slide 7: Image Transformation\n",
        "doc.add_heading('Image Transformation', level=2)\n",
        "doc.add_paragraph('• Translation, rotation, resizing\\n'\n",
        "                  '• Affine and perspective transformations\\n'\n",
        "                  '```python\\n'\n",
        "                  '# Translation\\n'\n",
        "                  'rows, cols = img.shape[:2]\\n'\n",
        "                  'M = np.float32([[1, 0, 100], [0, 1, 50]])\\n'\n",
        "                  'translated_image = cv2.warpAffine(img, M, (cols, rows))\\n'\n",
        "                  '\\n'\n",
        "                  '# Rotation\\n'\n",
        "                  'M = cv2.getRotationMatrix2D((cols / 2, rows / 2), 45, 1)\\n'\n",
        "                  'rotated_image = cv2.warpAffine(img, M, (cols, rows))\\n'\n",
        "                  '\\n'\n",
        "                  '# Resizing\\n'\n",
        "                  'resized_image = cv2.resize(img, (200, 200))\\n'\n",
        "                  '```')\n",
        "\n",
        "# Slide 8: Image Filtering\n",
        "doc.add_heading('Image Filtering', level=2)\n",
        "doc.add_paragraph('• Blurring, sharpening, edge detection\\n'\n",
        "                  '• Gaussian, median, bilateral filters\\n'\n",
        "                  '```python\\n'\n",
        "                  '# Blurring\\n'\n",
        "                  'blurred_image = cv2.GaussianBlur(img, (5, 5), 0)\\n'\n",
        "                  '\\n'\n",
        "                  '# Edge detection\\n'\n",
        "                  'edges = cv2.Canny(img, 100, 200)\\n'\n",
        "                  '```')\n",
        "\n",
        "# Add Module 3\n",
        "doc.add_heading('Module 3: Advanced Image Processing', level=1)\n",
        "\n",
        "# Slide 9: Morphological Operations\n",
        "doc.add_heading('Morphological Operations', level=2)\n",
        "doc.add_paragraph('• Erosion, dilation, opening, closing\\n'\n",
        "                  '• Morphological gradient, top hat, black hat\\n'\n",
        "                  '```python\\n'\n",
        "                  '# Erosion\\n'\n",
        "                  'kernel = np.ones((5, 5), np.uint8)\\n'\n",
        "                  'eroded_image = cv2.erode(img, kernel, iterations=1)\\n'\n",
        "                  '\\n'\n",
        "                  '# Dilation\\n'\n",
        "                  'dilated_image = cv2.dilate(img, kernel, iterations=1)\\n'\n",
        "                  '```')\n",
        "\n",
        "# Save the first part of the document\n",
        "document_filename = 'OpenCV_Course_Part1.docx'\n",
        "doc.save(document_filename)\n",
        "\n",
        "document_filename"
      ],
      "metadata": {
        "colab": {
          "base_uri": "https://localhost:8080/",
          "height": 35
        },
        "id": "nd9FDFI9_ewi",
        "outputId": "8c4a540f-67ec-4dbd-82b4-d26c409a06a2"
      },
      "execution_count": 12,
      "outputs": [
        {
          "output_type": "execute_result",
          "data": {
            "text/plain": [
              "'OpenCV_Course_Part1.docx'"
            ],
            "application/vnd.google.colaboratory.intrinsic+json": {
              "type": "string"
            }
          },
          "metadata": {},
          "execution_count": 12
        }
      ]
    },
    {
      "cell_type": "markdown",
      "source": [
        "# Generate Second Doc"
      ],
      "metadata": {
        "id": "YKqRJcoECbqn"
      }
    },
    {
      "cell_type": "code",
      "source": [
        "from docx import Document\n",
        "\n",
        "# Load existing document\n",
        "doc = Document('/content/OpenCV_Course_Part1.docx')\n",
        "\n",
        "# Add Module 4\n",
        "doc.add_heading('Module 4: Object Detection', level=1)\n",
        "\n",
        "# Slide 10: Contours\n",
        "doc.add_heading('Contours', level=2)\n",
        "doc.add_paragraph('• Finding and drawing contours\\n'\n",
        "                  '• Contour properties (area, perimeter, moments)\\n'\n",
        "                  '```python\\n'\n",
        "                  '# Finding contours\\n'\n",
        "                  'gray = cv2.cvtColor(img, cv2.COLOR_BGR2GRAY)\\n'\n",
        "                  'ret, thresh = cv2.threshold(gray, 127, 255, 0)\\n'\n",
        "                  'contours, hierarchy = cv2.findContours(thresh, cv2.RETR_TREE, cv2.CHAIN_APPROX_SIMPLE)\\n'\n",
        "                  '\\n'\n",
        "                  '# Drawing contours\\n'\n",
        "                  'cv2.drawContours(img, contours, -1, (0, 255, 0), 3)\\n'\n",
        "                  '```')\n",
        "\n",
        "# Slide 11: Histograms\n",
        "doc.add_heading('Histograms', level=2)\n",
        "doc.add_paragraph('• Histogram calculation and plotting\\n'\n",
        "                  '• Histogram equalization, normalization\\n'\n",
        "                  '```python\\n'\n",
        "                  '# Histogram calculation\\n'\n",
        "                  'hist = cv2.calcHist([gray], [0], None, [256], [0, 256])\\n'\n",
        "                  '\\n'\n",
        "                  '# Histogram equalization\\n'\n",
        "                  'equalized_image = cv2.equalizeHist(gray)\\n'\n",
        "                  '```')\n",
        "\n",
        "# Slide 12: Template Matching\n",
        "doc.add_heading('Template Matching', level=2)\n",
        "doc.add_paragraph('• Concept and implementation\\n'\n",
        "                  '• Applications and limitations\\n'\n",
        "                  '```python\\n'\n",
        "                  'result = cv2.matchTemplate(img, template, cv2.TM_CCOEFF_NORMED)\\n'\n",
        "                  'min_val, max_val, min_loc, max_loc = cv2.minMaxLoc(result)\\n'\n",
        "                  'top_left = max_loc\\n'\n",
        "                  'bottom_right = (top_left[0] + w, top_left[1] + h)\\n'\n",
        "                  'cv2.rectangle(img, top_left, bottom_right, 255, 2)\\n'\n",
        "                  '```')\n",
        "\n",
        "# Slide 13: Hough Transform\n",
        "doc.add_heading('Hough Transform', level=2)\n",
        "doc.add_paragraph('• Line detection, circle detection\\n'\n",
        "                  '```python\\n'\n",
        "                  '# Line detection\\n'\n",
        "                  'lines = cv2.HoughLines(edges, 1, np.pi / 180, 200)\\n'\n",
        "                  '\\n'\n",
        "                  '# Circle detection\\n'\n",
        "                  'circles = cv2.HoughCircles(gray, cv2.HOUGH_GRADIENT, 1, 20, param1=50, param2=30, minRadius=0, maxRadius=0)\\n'\n",
        "                  '```')\n",
        "\n",
        "# Slide 14: Haar Cascades\n",
        "doc.add_heading('Haar Cascades', level=2)\n",
        "doc.add_paragraph('• Face detection using Haar cascades\\n'\n",
        "                  '• Training your own cascade\\n'\n",
        "                  '```python\\n'\n",
        "                  '# Load Haar cascade\\n'\n",
        "                  'face_cascade = cv2.CascadeClassifier(\"haarcascade_frontalface_default.xml\")\\n'\n",
        "                  '\\n'\n",
        "                  '# Detect faces\\n'\n",
        "                  'faces = face_cascade.detectMultiScale(gray, 1.3, 5)\\n'\n",
        "                  'for (x, y, w, h) in faces:\\n'\n",
        "                  '    cv2.rectangle(img, (x, y), (x + w, y + h), (255, 0, 0), 2)\\n'\n",
        "                  '```')\n",
        "\n",
        "# Slide 15: Introduction to Machine Learning in OpenCV\n",
        "doc.add_heading('Introduction to Machine Learning in OpenCV', level=2)\n",
        "doc.add_paragraph('• Overview of ML algorithms in OpenCV\\n'\n",
        "                  '• Data preparation and preprocessing')\n",
        "\n",
        "# Save the second part of the document\n",
        "document_filename = 'OpenCV_Course_Part2.docx'\n",
        "doc.save(document_filename)\n",
        "\n",
        "document_filename"
      ],
      "metadata": {
        "colab": {
          "base_uri": "https://localhost:8080/",
          "height": 35
        },
        "id": "dnk9L6GyANFZ",
        "outputId": "cbc5ce51-68e2-4fc4-fefa-5b4c3f50dbfd"
      },
      "execution_count": 14,
      "outputs": [
        {
          "output_type": "execute_result",
          "data": {
            "text/plain": [
              "'OpenCV_Course_Part2.docx'"
            ],
            "application/vnd.google.colaboratory.intrinsic+json": {
              "type": "string"
            }
          },
          "metadata": {},
          "execution_count": 14
        }
      ]
    },
    {
      "cell_type": "markdown",
      "source": [
        "# Merge two docs into One"
      ],
      "metadata": {
        "id": "wP8Vl2fHCADP"
      }
    },
    {
      "cell_type": "code",
      "source": [
        "from docx import Document\n",
        "\n",
        "# Load both parts\n",
        "doc1 = Document('/content/OpenCV_Course_Part1.docx')\n",
        "doc2 = Document('/content/OpenCV_Course_Part1.docx')\n",
        "\n",
        "# Append doc2 to doc1\n",
        "for element in doc2.element.body:\n",
        "    doc1.element.body.append(element)\n",
        "\n",
        "# Save the combined document\n",
        "combined_document_filename = 'OpenCV_Course_Complete.docx'\n",
        "doc1.save(combined_document_filename)\n",
        "\n",
        "combined_document_filename\n"
      ],
      "metadata": {
        "colab": {
          "base_uri": "https://localhost:8080/",
          "height": 35
        },
        "id": "AjcwYbzNBQp7",
        "outputId": "1b162cd3-66f4-4e99-cd3e-0dc5a6f50bf6"
      },
      "execution_count": 15,
      "outputs": [
        {
          "output_type": "execute_result",
          "data": {
            "text/plain": [
              "'OpenCV_Course_Complete.docx'"
            ],
            "application/vnd.google.colaboratory.intrinsic+json": {
              "type": "string"
            }
          },
          "metadata": {},
          "execution_count": 15
        }
      ]
    },
    {
      "cell_type": "markdown",
      "source": [
        "# Convert Text to Power Point"
      ],
      "metadata": {
        "id": "ZJrx3hZxB7uh"
      }
    },
    {
      "cell_type": "code",
      "source": [
        "pip install python-docx python-pptx\n"
      ],
      "metadata": {
        "colab": {
          "base_uri": "https://localhost:8080/"
        },
        "id": "pFfXpcPAB3ta",
        "outputId": "2e809fb5-0053-469c-ad47-653e194c4d9c"
      },
      "execution_count": 16,
      "outputs": [
        {
          "output_type": "stream",
          "name": "stdout",
          "text": [
            "Requirement already satisfied: python-docx in /usr/local/lib/python3.10/dist-packages (1.1.2)\n",
            "Collecting python-pptx\n",
            "  Downloading python_pptx-0.6.23-py3-none-any.whl (471 kB)\n",
            "\u001b[2K     \u001b[90m━━━━━━━━━━━━━━━━━━━━━━━━━━━━━━━━━━━━━━━━\u001b[0m \u001b[32m471.6/471.6 kB\u001b[0m \u001b[31m8.0 MB/s\u001b[0m eta \u001b[36m0:00:00\u001b[0m\n",
            "\u001b[?25hRequirement already satisfied: lxml>=3.1.0 in /usr/local/lib/python3.10/dist-packages (from python-docx) (4.9.4)\n",
            "Requirement already satisfied: typing-extensions>=4.9.0 in /usr/local/lib/python3.10/dist-packages (from python-docx) (4.12.2)\n",
            "Requirement already satisfied: Pillow>=3.3.2 in /usr/local/lib/python3.10/dist-packages (from python-pptx) (9.4.0)\n",
            "Collecting XlsxWriter>=0.5.7 (from python-pptx)\n",
            "  Downloading XlsxWriter-3.2.0-py3-none-any.whl (159 kB)\n",
            "\u001b[2K     \u001b[90m━━━━━━━━━━━━━━━━━━━━━━━━━━━━━━━━━━━━━━━━\u001b[0m \u001b[32m159.9/159.9 kB\u001b[0m \u001b[31m15.4 MB/s\u001b[0m eta \u001b[36m0:00:00\u001b[0m\n",
            "\u001b[?25hInstalling collected packages: XlsxWriter, python-pptx\n",
            "Successfully installed XlsxWriter-3.2.0 python-pptx-0.6.23\n"
          ]
        }
      ]
    },
    {
      "cell_type": "code",
      "source": [
        "from docx import Document\n",
        "from pptx import Presentation\n",
        "from pptx.util import Inches\n",
        "\n",
        "def docx_to_pptx(docx_filename, pptx_filename):\n",
        "    # Load the docx file\n",
        "    doc = Document(docx_filename)\n",
        "\n",
        "    # Create a presentation object\n",
        "    prs = Presentation()\n",
        "\n",
        "    # Add a title slide\n",
        "    title_slide_layout = prs.slide_layouts[0]  # Title Slide layout\n",
        "    slide = prs.slides.add_slide(title_slide_layout)\n",
        "    title = slide.shapes.title\n",
        "    subtitle = slide.placeholders[1]\n",
        "\n",
        "    title.text = \"OpenCV from Basic to Advanced\"\n",
        "    subtitle.text = \"Instructor: Your Name\\nDate: 2024\"\n",
        "\n",
        "    for para in doc.paragraphs:\n",
        "        if para.text.strip():  # Skip empty paragraphs\n",
        "            # Add a slide with Title and Content layout\n",
        "            slide_layout = prs.slide_layouts[1]  # Title and Content layout\n",
        "            slide = prs.slides.add_slide(slide_layout)\n",
        "            title = slide.shapes.title\n",
        "            content = slide.placeholders[1]\n",
        "\n",
        "            # Set the slide title and content\n",
        "            sentences = para.text.split('.')\n",
        "            title.text = sentences[0] if sentences else ''\n",
        "            content.text = para.text\n",
        "\n",
        "    # Save the presentation\n",
        "    prs.save(pptx_filename)\n",
        "\n",
        "# Usage\n",
        "docx_filename = '/content/OpenCV_Course_Complete.docx'\n",
        "pptx_filename = 'OpenCV_Course.pptx'\n",
        "docx_to_pptx(docx_filename, pptx_filename)"
      ],
      "metadata": {
        "id": "Srjc8t4MBjTo"
      },
      "execution_count": 18,
      "outputs": []
    },
    {
      "cell_type": "code",
      "source": [],
      "metadata": {
        "id": "tNaMlR1_Ciej"
      },
      "execution_count": null,
      "outputs": []
    }
  ]
}