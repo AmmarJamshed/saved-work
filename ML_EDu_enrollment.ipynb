{
  "nbformat": 4,
  "nbformat_minor": 0,
  "metadata": {
    "colab": {
      "provenance": [],
      "authorship_tag": "ABX9TyMx9OYX9BRO5R4dv/2XIqKU",
      "include_colab_link": true
    },
    "kernelspec": {
      "name": "python3",
      "display_name": "Python 3"
    },
    "language_info": {
      "name": "python"
    }
  },
  "cells": [
    {
      "cell_type": "markdown",
      "metadata": {
        "id": "view-in-github",
        "colab_type": "text"
      },
      "source": [
        "<a href=\"https://colab.research.google.com/github/AmmarJamshed/saved-work/blob/main/ML_EDu_enrollment.ipynb\" target=\"_parent\"><img src=\"https://colab.research.google.com/assets/colab-badge.svg\" alt=\"Open In Colab\"/></a>"
      ]
    },
    {
      "cell_type": "code",
      "execution_count": 11,
      "metadata": {
        "id": "tkEt1ISnMv6l"
      },
      "outputs": [],
      "source": [
        "# Importing necessary libraries\n",
        "import pandas as pd\n",
        "import numpy as np\n",
        "from sklearn.model_selection import train_test_split\n",
        "from sklearn.linear_model import LinearRegression\n",
        "from sklearn.preprocessing import StandardScaler\n",
        "from sklearn.metrics import mean_squared_error"
      ]
    },
    {
      "cell_type": "code",
      "source": [
        "# Load the Edx dataset\n",
        "df = pd.read_csv('/content/edx_courses.csv')\n",
        "\n",
        "# Displaying first few rows of the dataset\n",
        "print(df.head())\n",
        "\n",
        "# Selecting relevant features for prediction\n",
        "# Assume these columns exist in the dataset based on your description\n",
        "features = ['course_effort', 'length', 'price', 'Level', 'subject', 'course_type']\n",
        "target = 'enrolled_students'  # This is the target variable we're predicting\n"
      ],
      "metadata": {
        "colab": {
          "base_uri": "https://localhost:8080/"
        },
        "id": "g0wh35-SNzUm",
        "outputId": "4be99821-c606-42fa-d15d-d85bc2943662"
      },
      "execution_count": 16,
      "outputs": [
        {
          "output_type": "stream",
          "name": "stdout",
          "text": [
            "                                               title  \\\n",
            "0                                How to Learn Online   \n",
            "1  Programming for Everybody (Getting Started wit...   \n",
            "2            CS50's Introduction to Computer Science   \n",
            "3                                 The Analytics Edge   \n",
            "4  Marketing Analytics: Marketing Measurement Str...   \n",
            "\n",
            "                                             summary n_enrolled  \\\n",
            "0  Learn essential strategies for successful onli...    124,980   \n",
            "1  This course is a \"no prerequisite\" introductio...    293,864   \n",
            "2  An introduction to the intellectual enterprise...  2,442,271   \n",
            "3  Through inspiring examples and stories, discov...    129,555   \n",
            "4     This course is part of a MicroMasters® Program     81,140   \n",
            "\n",
            "                           course_type                            institution  \\\n",
            "0              Self-paced on your time                                    edX   \n",
            "1              Self-paced on your time             The University of Michigan   \n",
            "2              Self-paced on your time                     Harvard University   \n",
            "3  Instructor-led on a course schedule  Massachusetts Institute of Technology   \n",
            "4              Self-paced on your time     University of California, Berkeley   \n",
            "\n",
            "                                         instructors         Level  \\\n",
            "0            Nina Huntemann-Robyn Belair-Ben Piscopo  Introductory   \n",
            "1                                  Charles Severance  Introductory   \n",
            "2                 David J. Malan-Doug Lloyd-Brian Yu  Introductory   \n",
            "3  Dimitris Bertsimas-Allison O'Hair-John Silberh...  Intermediate   \n",
            "4                                     Stephan Sorger  Introductory   \n",
            "\n",
            "                        subject language subtitles         course_effort  \\\n",
            "0  Education & Teacher Training  English   English    2–3 hours per week   \n",
            "1              Computer Science  English   English    2–4 hours per week   \n",
            "2              Computer Science  English   English   6–18 hours per week   \n",
            "3    Data Analysis & Statistics  English   English  10–15 hours per week   \n",
            "4              Computer Science  English   English    5–7 hours per week   \n",
            "\n",
            "  course_length                                         price  \\\n",
            "0       2 Weeks   FREE-Add a Verified Certificate for $49 USD   \n",
            "1       7 Weeks   FREE-Add a Verified Certificate for $49 USD   \n",
            "2      12 Weeks   FREE-Add a Verified Certificate for $90 USD   \n",
            "3      13 Weeks  FREE-Add a Verified Certificate for $199 USD   \n",
            "4       4 Weeks  FREE-Add a Verified Certificate for $249 USD   \n",
            "\n",
            "                                  course_description  \\\n",
            "0  Designed for those who are new to elearning, t...   \n",
            "1  This course aims to teach everyone the basics ...   \n",
            "2  This is CS50x , Harvard University's introduct...   \n",
            "3  In the last decade, the amount of data availab...   \n",
            "4  Begin your journey in a new career in marketin...   \n",
            "\n",
            "                                     course_syllabus  \\\n",
            "0  Welcome - We start with opportunities to meet ...   \n",
            "1                                                NaN   \n",
            "2                                                NaN   \n",
            "3                                                NaN   \n",
            "4                                                NaN   \n",
            "\n",
            "                                          course_url  \n",
            "0     https://www.edx.org/course/how-to-learn-online  \n",
            "1  https://www.edx.org/course/programming-for-eve...  \n",
            "2  https://www.edx.org/course/cs50s-introduction-...  \n",
            "3      https://www.edx.org/course/the-analytics-edge  \n",
            "4  https://www.edx.org/course/marketing-analytics...  \n"
          ]
        }
      ]
    },
    {
      "cell_type": "code",
      "source": [
        "# Fill missing values in 'n_enrolled' with 0 (assuming courses with no enrollment data have 0 enrollments)\n",
        "df['n_enrolled'] = df['n_enrolled'].str.replace(',', '').fillna(0).astype(int)\n",
        "\n",
        "# Continue with the rest of the data cleaning steps\n",
        "\n",
        "# Convert 'course_length' to numeric (extracting the number of weeks)\n",
        "df['course_length'] = df['course_length'].str.extract('(\\d+)').astype(float)\n",
        "\n",
        "# Extract the minimum effort per week from 'course_effort'\n",
        "df['course_effort'] = df['course_effort'].str.extract('(\\d+)').astype(float)\n",
        "\n",
        "# Extract the numeric part of 'price' (we'll use the price of the certificate if applicable)\n",
        "df['price'] = df['price'].str.extract('(\\d+)').astype(float)\n",
        "\n",
        "# Handle missing values in price (assume free for missing prices)\n",
        "df['price'].fillna(0, inplace=True)\n",
        "\n",
        "# Create dummy variables for categorical features\n",
        "df = pd.get_dummies(df, columns=['Level', 'subject', 'course_type'], drop_first=True)\n",
        "\n",
        "# Prepare feature set and target\n",
        "features = ['course_effort', 'course_length', 'price'] + [col for col in df.columns if 'Level_' in col or 'subject_' in col or 'course_type_' in col]\n",
        "X = df[features]\n",
        "y = df['n_enrolled']\n",
        "\n",
        "# Check the cleaned dataset\n",
        "X.head(), y.head()"
      ],
      "metadata": {
        "colab": {
          "base_uri": "https://localhost:8080/"
        },
        "id": "ZN0P0x2VOcv-",
        "outputId": "a300d874-89a1-4719-c10f-f1f2cc2a45a1"
      },
      "execution_count": 17,
      "outputs": [
        {
          "output_type": "stream",
          "name": "stderr",
          "text": [
            "<ipython-input-17-1e5fa026cb36>:16: FutureWarning: A value is trying to be set on a copy of a DataFrame or Series through chained assignment using an inplace method.\n",
            "The behavior will change in pandas 3.0. This inplace method will never work because the intermediate object on which we are setting values always behaves as a copy.\n",
            "\n",
            "For example, when doing 'df[col].method(value, inplace=True)', try using 'df.method({col: value}, inplace=True)' or df[col] = df[col].method(value) instead, to perform the operation inplace on the original object.\n",
            "\n",
            "\n",
            "  df['price'].fillna(0, inplace=True)\n"
          ]
        },
        {
          "output_type": "execute_result",
          "data": {
            "text/plain": [
              "(   course_effort  course_length  price  Level_Intermediate  \\\n",
              " 0            2.0            2.0   49.0               False   \n",
              " 1            2.0            7.0   49.0               False   \n",
              " 2            6.0           12.0   90.0               False   \n",
              " 3           10.0           13.0  199.0                True   \n",
              " 4            5.0            4.0  249.0               False   \n",
              " \n",
              "    Level_Introductory  subject_Art & Culture  subject_Biology & Life Sciences  \\\n",
              " 0                True                  False                            False   \n",
              " 1                True                  False                            False   \n",
              " 2                True                  False                            False   \n",
              " 3               False                  False                            False   \n",
              " 4                True                  False                            False   \n",
              " \n",
              "    subject_Business & Management  subject_Chemistry  subject_Communication  \\\n",
              " 0                          False              False                  False   \n",
              " 1                          False              False                  False   \n",
              " 2                          False              False                  False   \n",
              " 3                          False              False                  False   \n",
              " 4                          False              False                  False   \n",
              " \n",
              "    ...  subject_Literature  subject_Math  subject_Medicine  subject_Music  \\\n",
              " 0  ...               False         False             False          False   \n",
              " 1  ...               False         False             False          False   \n",
              " 2  ...               False         False             False          False   \n",
              " 3  ...               False         False             False          False   \n",
              " 4  ...               False         False             False          False   \n",
              " \n",
              "    subject_Philanthropy  subject_Philosophy & Ethics  subject_Physics  \\\n",
              " 0                 False                        False            False   \n",
              " 1                 False                        False            False   \n",
              " 2                 False                        False            False   \n",
              " 3                 False                        False            False   \n",
              " 4                 False                        False            False   \n",
              " \n",
              "    subject_Science  subject_Social Sciences  \\\n",
              " 0            False                    False   \n",
              " 1            False                    False   \n",
              " 2            False                    False   \n",
              " 3            False                    False   \n",
              " 4            False                    False   \n",
              " \n",
              "    course_type_Self-paced on your time  \n",
              " 0                                 True  \n",
              " 1                                 True  \n",
              " 2                                 True  \n",
              " 3                                False  \n",
              " 4                                 True  \n",
              " \n",
              " [5 rows x 36 columns],\n",
              " 0     124980\n",
              " 1     293864\n",
              " 2    2442271\n",
              " 3     129555\n",
              " 4      81140\n",
              " Name: n_enrolled, dtype: int64)"
            ]
          },
          "metadata": {},
          "execution_count": 17
        }
      ]
    },
    {
      "cell_type": "code",
      "source": [
        "# Split the dataset into training and testing sets\n",
        "from sklearn.model_selection import train_test_split\n",
        "from sklearn.linear_model import LinearRegression\n",
        "from sklearn.preprocessing import StandardScaler\n",
        "from sklearn.metrics import mean_squared_error\n",
        "\n",
        "# Split the data into training and testing sets (80% train, 20% test)\n",
        "X_train, X_test, y_train, y_test = train_test_split(X, y, test_size=0.2, random_state=42)\n",
        "\n",
        "# Standardize the feature variables\n",
        "scaler = StandardScaler()\n",
        "X_train_scaled = scaler.fit_transform(X_train)\n",
        "X_test_scaled = scaler.transform(X_test)\n",
        "\n",
        "# Initialize the Linear Regression model\n",
        "model = LinearRegression()\n",
        "\n",
        "# Train the model on the training set\n",
        "model.fit(X_train_scaled, y_train)\n",
        "\n",
        "# Make predictions on the test set\n",
        "y_pred = model.predict(X_test_scaled)\n",
        "\n",
        "# Evaluate the model using Mean Squared Error (MSE)\n",
        "mse = mean_squared_error(y_test, y_pred)\n",
        "mse, y_pred[:5], y_test[:5]  # Return the MSE and first 5 predictions vs actual values for review"
      ],
      "metadata": {
        "colab": {
          "base_uri": "https://localhost:8080/"
        },
        "id": "KAggFhugOiJY",
        "outputId": "50753f4f-ed72-4ecc-fe62-a66a4b838edf"
      },
      "execution_count": 18,
      "outputs": [
        {
          "output_type": "execute_result",
          "data": {
            "text/plain": [
              "(1.8097291534993742e+36,\n",
              " array([55866.14200614, 14906.14200614, 48698.14200614, 90682.14200614,\n",
              "        47162.14200614]),\n",
              " 199    66764\n",
              " 789        0\n",
              " 174    37126\n",
              " 467     9503\n",
              " 66     48938\n",
              " Name: n_enrolled, dtype: int64)"
            ]
          },
          "metadata": {},
          "execution_count": 18
        }
      ]
    },
    {
      "cell_type": "code",
      "source": [],
      "metadata": {
        "id": "AAW2hKVKQfFL"
      },
      "execution_count": null,
      "outputs": []
    }
  ]
}